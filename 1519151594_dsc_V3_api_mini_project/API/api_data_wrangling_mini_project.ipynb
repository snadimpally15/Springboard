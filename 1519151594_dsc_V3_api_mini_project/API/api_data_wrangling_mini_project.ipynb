{
 "cells": [
  {
   "cell_type": "markdown",
   "metadata": {},
   "source": [
    "This exercise will require you to pull some data from the Qunadl API. Qaundl is currently the most widely used aggregator of financial market data."
   ]
  },
  {
   "cell_type": "markdown",
   "metadata": {},
   "source": [
    "As a first step, you will need to register a free account on the http://www.quandl.com website."
   ]
  },
  {
   "cell_type": "markdown",
   "metadata": {},
   "source": [
    "After you register, you will be provided with a unique API key, that you should store:"
   ]
  },
  {
   "cell_type": "code",
   "execution_count": 5,
   "metadata": {
    "collapsed": true
   },
   "outputs": [],
   "source": [
    "# Store the API key as a string - according to PEP8, constants are always named in all upper case\n",
    "API_KEY = ''"
   ]
  },
  {
   "cell_type": "markdown",
   "metadata": {},
   "source": [
    "Qaundl has a large number of data sources, but, unfortunately, most of them require a Premium subscription. Still, there are also a good number of free datasets."
   ]
  },
  {
   "cell_type": "markdown",
   "metadata": {},
   "source": [
    "For this mini project, we will focus on equities data from the Frankfurt Stock Exhange (FSE), which is available for free. We'll try and analyze the stock prices of a company called Carl Zeiss Meditec, which manufactures tools for eye examinations, as well as medical lasers for laser eye surgery: https://www.zeiss.com/meditec/int/home.html. The company is listed under the stock ticker AFX_X."
   ]
  },
  {
   "cell_type": "markdown",
   "metadata": {},
   "source": [
    "You can find the detailed Quandl API instructions here: https://docs.quandl.com/docs/time-series"
   ]
  },
  {
   "cell_type": "markdown",
   "metadata": {},
   "source": [
    "While there is a dedicated Python package for connecting to the Quandl API, we would prefer that you use the *requests* package, which can be easily downloaded using *pip* or *conda*. You can find the documentation for the package here: http://docs.python-requests.org/en/master/ "
   ]
  },
  {
   "cell_type": "markdown",
   "metadata": {},
   "source": [
    "Finally, apart from the *requests* package, you are encouraged to not use any third party Python packages, such as *pandas*, and instead focus on what's available in the Python Standard Library (the *collections* module might come in handy: https://pymotw.com/3/collections/).\n",
    "Also, since you won't have access to DataFrames, you are encouraged to us Python's native data structures - preferably dictionaries, though some questions can also be answered using lists.\n",
    "You can read more on these data structures here: https://docs.python.org/3/tutorial/datastructures.html"
   ]
  },
  {
   "cell_type": "markdown",
   "metadata": {},
   "source": [
    "Keep in mind that the JSON responses you will be getting from the API map almost one-to-one to Python's dictionaries. Unfortunately, they can be very nested, so make sure you read up on indexing dictionaries in the documentation provided above."
   ]
  },
  {
   "cell_type": "code",
   "execution_count": 2,
   "metadata": {
    "collapsed": true
   },
   "outputs": [],
   "source": [
    "# First, import the relevant modules\n",
    "import requests\n",
    "import json\n",
    "import statistics\n"
   ]
  },
  {
   "cell_type": "code",
   "execution_count": 6,
   "metadata": {
    "collapsed": true
   },
   "outputs": [],
   "source": [
    "# Now, call the Quandl API and pull out a small sample of the data (only one day) to get a glimpse\n",
    "# into the JSON structure that will be returned\n",
    "req = requests.get('https://www.quandl.com/api/v3/datasets/FSE/AFX_X.json?start_date=2016-01-04&end_date=2016-01-05')"
   ]
  },
  {
   "cell_type": "code",
   "execution_count": 7,
   "metadata": {},
   "outputs": [
    {
     "data": {
      "text/plain": [
       "{'dataset': {'collapse': None,\n",
       "  'column_index': None,\n",
       "  'column_names': ['Date',\n",
       "   'Open',\n",
       "   'High',\n",
       "   'Low',\n",
       "   'Close',\n",
       "   'Change',\n",
       "   'Traded Volume',\n",
       "   'Turnover',\n",
       "   'Last Price of the Day',\n",
       "   'Daily Traded Units',\n",
       "   'Daily Turnover'],\n",
       "  'data': [['2016-01-05',\n",
       "    26.63,\n",
       "    28.35,\n",
       "    26.32,\n",
       "    28.21,\n",
       "    None,\n",
       "    69486.0,\n",
       "    1925215.0,\n",
       "    None,\n",
       "    None,\n",
       "    None],\n",
       "   ['2016-01-04',\n",
       "    28.27,\n",
       "    28.59,\n",
       "    27.45,\n",
       "    27.96,\n",
       "    None,\n",
       "    64140.0,\n",
       "    1788601.0,\n",
       "    None,\n",
       "    None,\n",
       "    None]],\n",
       "  'database_code': 'FSE',\n",
       "  'database_id': 6129,\n",
       "  'dataset_code': 'AFX_X',\n",
       "  'description': 'Stock Prices for Carl Zeiss Meditec (AFX) from the Frankfurt Stock Exchange.<br><br>Trading System: Xetra<br><br>ISIN: DE0005313704',\n",
       "  'end_date': '2016-01-05',\n",
       "  'frequency': 'daily',\n",
       "  'id': 10095370,\n",
       "  'limit': None,\n",
       "  'name': 'Carl Zeiss Meditec (AFX_X)',\n",
       "  'newest_available_date': '2018-09-17',\n",
       "  'oldest_available_date': '2000-06-07',\n",
       "  'order': None,\n",
       "  'premium': False,\n",
       "  'refreshed_at': '2018-09-17T22:37:56.242Z',\n",
       "  'start_date': '2016-01-04',\n",
       "  'transform': None,\n",
       "  'type': 'Time Series'}}"
      ]
     },
     "execution_count": 7,
     "metadata": {},
     "output_type": "execute_result"
    }
   ],
   "source": [
    "# Inspect the JSON structure of the object you created, and take note of how nested it is,\n",
    "# as well as the overall structure\n",
    "req.json()"
   ]
  },
  {
   "cell_type": "markdown",
   "metadata": {},
   "source": [
    "These are your tasks for this mini project:\n",
    "\n",
    "1. Collect data from the Franfurt Stock Exchange, for the ticker AFX_X, for the whole year 2017 (keep in mind that the date format is YYYY-MM-DD).\n",
    "2. Convert the returned JSON object into a Python dictionary.\n",
    "3. Calculate what the highest and lowest opening prices were for the stock in this period.\n",
    "4. What was the largest change in any one day (based on High and Low price)?\n",
    "5. What was the largest change between any two days (based on Closing Price)?\n",
    "6. What was the average daily trading volume during this year?\n",
    "7. (Optional) What was the median trading volume during this year. (Note: you may need to implement your own function for calculating the median.)"
   ]
  },
  {
   "cell_type": "code",
   "execution_count": 8,
   "metadata": {
    "collapsed": true
   },
   "outputs": [],
   "source": [
    "#Collect data from the Franfurt Stock Exchange, for the ticker AFX_X, for the whole year 2017 (keep in mind that the date format is YYYY-MM-DD).\n",
    "\n",
    "req_json = requests.get('https://www.quandl.com/api/v3/datasets/FSE/AFX_X.json?start_date=2016-01-01&end_date=2016-12-31')"
   ]
  },
  {
   "cell_type": "code",
   "execution_count": 9,
   "metadata": {
    "collapsed": true
   },
   "outputs": [],
   "source": [
    "# Convert the returned JSON object into a Python dictionary.\n",
    "req_dict = req_json.json()"
   ]
  },
  {
   "cell_type": "code",
   "execution_count": 10,
   "metadata": {},
   "outputs": [
    {
     "data": {
      "text/plain": [
       "'Lowest opening Price for 2017 is 25.95 on 2016-02-12'"
      ]
     },
     "execution_count": 10,
     "metadata": {},
     "output_type": "execute_result"
    }
   ],
   "source": [
    "# Calculate what the highest and lowest opening prices were for the stock in this period.\n",
    "req_data = req_dict['dataset']['data']\n",
    "lowestprice = sorted(req_data, key=lambda k: (k[1] is None, k[1]))[:1]\n",
    "'Lowest opening Price for 2017 is '+str(lowestprice[0][1])+' on '+str(lowestprice[0][0])"
   ]
  },
  {
   "cell_type": "code",
   "execution_count": 11,
   "metadata": {},
   "outputs": [
    {
     "data": {
      "text/plain": [
       "'Highest opening Price for 2017 is 37.51 on 2016-07-14'"
      ]
     },
     "execution_count": 11,
     "metadata": {},
     "output_type": "execute_result"
    }
   ],
   "source": [
    "# Calculate what the highest and lowest opening prices were for the stock in this period.\n",
    "highopen = sorted(req_data, key=lambda k: (k[1] is not None, k[1]), reverse=True)[:1]\n",
    "'Highest opening Price for 2017 is '+str(highopen[0][1])+' on '+str(highopen[0][0])"
   ]
  },
  {
   "cell_type": "code",
   "execution_count": 12,
   "metadata": {},
   "outputs": [
    {
     "data": {
      "text/plain": [
       "'Largest Change for a day on 2016-06-24 with high value at 34.26 lowest value at 29.87'"
      ]
     },
     "execution_count": 12,
     "metadata": {},
     "output_type": "execute_result"
    }
   ],
   "source": [
    "# What was the largest change in any one day (based on High and Low price)?\n",
    "larchng = sorted(req_data, key=lambda k: k[2]-k[3],reverse=True)[:1]\n",
    "'Largest Change for a day on '+str(larchng[0][0])+' with high value at '+str(larchng[0][2])+' lowest value at '+str(larchng[0][3])"
   ]
  },
  {
   "cell_type": "code",
   "execution_count": 13,
   "metadata": {},
   "outputs": [
    {
     "data": {
      "text/plain": [
       "'Largest Change for a 2 day on 2016-07-19 with difference of 2.3399999999999963'"
      ]
     },
     "execution_count": 13,
     "metadata": {},
     "output_type": "execute_result"
    }
   ],
   "source": [
    "# What was the largest change between any two days (based on Closing Price)?\n",
    "nl=[]\n",
    "for i in range(len(req_data)-1):\n",
    "        nl.append([req_data[i][0],req_data[i][4],abs(req_data[i][4]-req_data[i+1][4])])\n",
    "larchng2 = sorted(nl, key=lambda k: k[2], reverse=True)\t\t\n",
    "'Largest Change for a 2 day on '+str(larchng2[0][0])+' with difference of '+str(larchng2[0][2])"
   ]
  },
  {
   "cell_type": "code",
   "execution_count": 14,
   "metadata": {},
   "outputs": [
    {
     "data": {
      "text/plain": [
       "60413.223076923074"
      ]
     },
     "execution_count": 14,
     "metadata": {},
     "output_type": "execute_result"
    }
   ],
   "source": [
    "# What was the average daily trading volume during this year?\n",
    "med_lis=[]\n",
    "for i in range(len(req_data)):\n",
    "        med_lis.append(req_data[i][6])\n",
    "statistics.mean(med_lis)"
   ]
  },
  {
   "cell_type": "code",
   "execution_count": 15,
   "metadata": {},
   "outputs": [
    {
     "data": {
      "text/plain": [
       "50838.0"
      ]
     },
     "execution_count": 15,
     "metadata": {},
     "output_type": "execute_result"
    }
   ],
   "source": [
    "# What was the median trading volume during this year.\n",
    "med_new=sorted(med_lis)\n",
    "statistics.median(med_new)"
   ]
  }
 ],
 "metadata": {
  "kernelspec": {
   "display_name": "Python 3",
   "language": "python",
   "name": "python3"
  },
  "language_info": {
   "codemirror_mode": {
    "name": "ipython",
    "version": 3
   },
   "file_extension": ".py",
   "mimetype": "text/x-python",
   "name": "python",
   "nbconvert_exporter": "python",
   "pygments_lexer": "ipython3",
   "version": "3.6.3"
  }
 },
 "nbformat": 4,
 "nbformat_minor": 2
}
