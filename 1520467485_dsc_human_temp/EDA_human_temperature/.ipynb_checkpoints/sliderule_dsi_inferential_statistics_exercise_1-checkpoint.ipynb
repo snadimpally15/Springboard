{
 "cells": [
  {
   "cell_type": "markdown",
   "metadata": {},
   "source": [
    "# What is the True Normal Human Body Temperature? \n",
    "\n",
    "#### Background\n",
    "\n",
    "The mean normal body temperature was held to be 37$^{\\circ}$C or 98.6$^{\\circ}$F for more than 120 years since it was first conceptualized and reported by Carl Wunderlich in a famous 1868 book. But, is this value statistically correct?"
   ]
  },
  {
   "cell_type": "markdown",
   "metadata": {},
   "source": [
    "<h3>Exercises</h3>\n",
    "\n",
    "<p>In this exercise, you will analyze a dataset of human body temperatures and employ the concepts of hypothesis testing, confidence intervals, and statistical significance.</p>\n",
    "\n",
    "<p>Answer the following questions <b>in this notebook below and submit to your Github account</b>.</p> \n",
    "\n",
    "<ol>\n",
    "<li>  Is the distribution of body temperatures normal? \n",
    "    <ul>\n",
    "    <li> Although this is not a requirement for the Central Limit Theorem to hold (read the introduction on Wikipedia's page about the CLT carefully: https://en.wikipedia.org/wiki/Central_limit_theorem), it gives us some peace of mind that the population may also be normally distributed if we assume that this sample is representative of the population.\n",
    "    <li> Think about the way you're going to check for the normality of the distribution. Graphical methods are usually used first, but there are also other ways: https://en.wikipedia.org/wiki/Normality_test\n",
    "    </ul>\n",
    "<li>  Is the sample size large? Are the observations independent?\n",
    "    <ul>\n",
    "    <li> Remember that this is a condition for the Central Limit Theorem, and hence the statistical tests we are using, to apply.\n",
    "    </ul>\n",
    "<li>  Is the true population mean really 98.6 degrees F?\n",
    "    <ul>\n",
    "    <li> First, try a bootstrap hypothesis test.\n",
    "    <li> Now, let's try frequentist statistical testing. Would you use a one-sample or two-sample test? Why?\n",
    "    <li> In this situation, is it appropriate to use the $t$ or $z$ statistic? \n",
    "    <li> Now try using the other test. How is the result be different? Why?\n",
    "    </ul>\n",
    "<li>  Draw a small sample of size 10 from the data and repeat both frequentist tests. \n",
    "    <ul>\n",
    "    <li> Which one is the correct one to use? \n",
    "    <li> What do you notice? What does this tell you about the difference in application of the $t$ and $z$ statistic?\n",
    "    </ul>\n",
    "<li>  At what temperature should we consider someone's temperature to be \"abnormal\"?\n",
    "    <ul>\n",
    "    <li> As in the previous example, try calculating everything using the boostrap approach, as well as the frequentist approach.\n",
    "    <li> Start by computing the margin of error and confidence interval. When calculating the confidence interval, keep in mind that you should use the appropriate formula for one draw, and not N draws.\n",
    "    </ul>\n",
    "<li>  Is there a significant difference between males and females in normal temperature?\n",
    "    <ul>\n",
    "    <li> What testing approach did you use and why?\n",
    "    <li> Write a story with your conclusion in the context of the original problem.\n",
    "    </ul>\n",
    "</ol>\n",
    "\n",
    "You can include written notes in notebook cells using Markdown: \n",
    "   - In the control panel at the top, choose Cell > Cell Type > Markdown\n",
    "   - Markdown syntax: http://nestacms.com/docs/creating-content/markdown-cheat-sheet\n",
    "\n",
    "#### Resources\n",
    "\n",
    "+ Information and data sources: http://www.amstat.org/publications/jse/datasets/normtemp.txt, http://www.amstat.org/publications/jse/jse_data_archive.htm\n",
    "+ Markdown syntax: http://nestacms.com/docs/creating-content/markdown-cheat-sheet\n",
    "\n",
    "****"
   ]
  },
  {
   "cell_type": "code",
   "execution_count": 1,
   "metadata": {
    "collapsed": true
   },
   "outputs": [],
   "source": [
    "import pandas as pd\n",
    "import numpy as np\n",
    "import matplotlib.pyplot as plt\n",
    "import scipy.stats as stats\n",
    "import seaborn as sns\n",
    "df = pd.read_csv('data/human_body_temperature.csv')"
   ]
  },
  {
   "cell_type": "markdown",
   "metadata": {},
   "source": [
    "## Is the distribution of body temperatures normal? "
   ]
  },
  {
   "cell_type": "markdown",
   "metadata": {
    "collapsed": true
   },
   "source": [
    "We can plot a histogram with the sample data to visualize, looking at plot we can say it looks normally distributed for sample size of n >= 30."
   ]
  },
  {
   "cell_type": "code",
   "execution_count": 3,
   "metadata": {},
   "outputs": [
    {
     "data": {
      "image/png": "[encoded data removed]",
      "text/plain": [
       "<matplotlib.figure.Figure at 0x265230f1588>"
      ]
     },
     "metadata": {},
     "output_type": "display_data"
    }
   ],
   "source": [
    "body_temp = df['temperature']\n",
    "\n",
    "# Calculate no of bins as square root of data points\n",
    "n_bins = int(np.sqrt(len(body_temp)))\n",
    "\n",
    "sns.distplot(body_temp, bins=n_bins, color='blue')\n",
    "_ = plt.xlabel('Temperature (F)')\n",
    "_ = plt.ylabel('Frequency')\n",
    "_ = plt.title('Human Body Temperatures')\n",
    "\n",
    "plt.show()"
   ]
  },
  {
   "cell_type": "markdown",
   "metadata": {},
   "source": [
    "## Is the sample size large?\n"
   ]
  },
  {
   "cell_type": "code",
   "execution_count": 4,
   "metadata": {},
   "outputs": [
    {
     "name": "stdout",
     "output_type": "stream",
     "text": [
      "<class 'pandas.core.frame.DataFrame'>\n",
      "RangeIndex: 130 entries, 0 to 129\n",
      "Data columns (total 3 columns):\n",
      "temperature    130 non-null float64\n",
      "gender         130 non-null object\n",
      "heart_rate     130 non-null float64\n",
      "dtypes: float64(2), object(1)\n",
      "memory usage: 3.1+ KB\n"
     ]
    }
   ],
   "source": [
    "df.info()"
   ]
  },
  {
   "cell_type": "markdown",
   "metadata": {},
   "source": [
    "The central limit theorem states that if you have a population with mean μ and standard deviation σ and take sufficiently large random samples from the population with replacement, then the distribution of the sample means will be approximately normally distributed. This will hold true regardless of whether the source population is normal or skewed, provided the sample size is sufficiently large (usually n > 30). 130 observations is not large as a fraction of the population of all humans but the data is symmetric about the mean, so 130 can be considered sufficiently large as per CLT."
   ]
  },
  {
   "cell_type": "markdown",
   "metadata": {},
   "source": [
    "## Is the true population mean really 98.6 degrees F?\n",
    "\n",
    "First, try a bootstrap hypothesis test.\n",
    "\n",
    "Considering Null hypothesis to be true ( μ = 98.6)"
   ]
  },
  {
   "cell_type": "code",
   "execution_count": 5,
   "metadata": {},
   "outputs": [
    {
     "name": "stdout",
     "output_type": "stream",
     "text": [
      "p - value: 0.0\n"
     ]
    }
   ],
   "source": [
    "def bootstrap_replicate_rs(data, func):\n",
    "    np.random.seed(30)\n",
    "    return func(np.random.choice(data, size=len(data)))\n",
    "\n",
    "# Define Function to generate random samples return function with size\n",
    "def draw_bs_reps(data, func, size=1):\n",
    "    \"\"\"Draw bootstrap replicates.\"\"\"\n",
    "\n",
    "    # Initialize array of replicates: bs_replicates\n",
    "    bs_replicates = np.empty(size)\n",
    "\n",
    "    # Generate replicates\n",
    "    for i in range(size):\n",
    "        bs_replicates[i] = bootstrap_replicate_rs(data, func)\n",
    "\n",
    "    return bs_replicates\n",
    "\n",
    "#Plot with mean for 10000 samples to see if distribution is Normal\n",
    "bs_replicates = draw_bs_reps(df['temperature'], np.mean, size=10000)\n",
    "\n",
    "# Calculate p value:\n",
    "size = len(bs_replicates)\n",
    "\n",
    "p = np.sum(bs_replicates >= 98.6) / size \n",
    "\n",
    "print('p - value:',p)"
   ]
  },
  {
   "cell_type": "markdown",
   "metadata": {},
   "source": [
    "Since p-value is 0.0, indicating that the null hypothesis can be rejected. Population mean of body temperature 98.6 can be rejected."
   ]
  },
  {
   "cell_type": "markdown",
   "metadata": {},
   "source": [
    "# Now, let's try frequentist statistical testing. Would you use a one-sample or two-sample test? Why? \n",
    "\n",
    "When comparing the mean of a single sample to a population with an hypothesised mean, a one-sample t-test is appropriate.\n",
    "\n",
    "To calculate Z-Statistic we need to have population standard deviation which is not mentioned, so we can use t  statistic.\n",
    "\n",
    "t-statistic = (sample mean - population mean) / (sample standard deviation / sqrt(sample size)"
   ]
  },
  {
   "cell_type": "code",
   "execution_count": 7,
   "metadata": {},
   "outputs": [
    {
     "data": {
      "text/plain": [
       "Ttest_1sampResult(statistic=-5.4548232923645195, pvalue=2.4106320415561276e-07)"
      ]
     },
     "execution_count": 7,
     "metadata": {},
     "output_type": "execute_result"
    }
   ],
   "source": [
    "t_stat = stats.ttest_1samp(body_temp, 98.6)\n",
    "t_stat"
   ]
  },
  {
   "cell_type": "markdown",
   "metadata": {},
   "source": [
    "## Draw a small sample of size 10 from the data and repeat both frequentist tests. \n",
    "\n",
    "Which one is the correct one to use? \n",
    "What do you notice? What does this tell you about the difference in application of the t and z statistic? "
   ]
  },
  {
   "cell_type": "code",
   "execution_count": 8,
   "metadata": {},
   "outputs": [
    {
     "name": "stdout",
     "output_type": "stream",
     "text": [
      "t-score: -0.433\n",
      "p-value: 0.6752\n"
     ]
    }
   ],
   "source": [
    "sample_temp = np.random.choice(a = body_temp, size=10)\n",
    "r = stats.ttest_1samp(sample_temp, 98.6)\n",
    "print('t-score: {:0.4}\\np-value: {:0.4}'.format(r.statistic, r.pvalue))"
   ]
  },
  {
   "cell_type": "markdown",
   "metadata": {},
   "source": [
    "p-value is greater than 0.05, so we fail to reject the null hypothesis, since population standard deviation is unknown we can only use t-statistics. \n",
    "\n",
    "For this sample size 10 we failed to reject null hypothesis its hard to draw conclusion for this small size."
   ]
  },
  {
   "cell_type": "markdown",
   "metadata": {},
   "source": [
    "## At what temperature should we consider someone's temperature to be \"abnormal\"? \n",
    "As in the previous example, try calculating everything using the boostrap approach, as well as the frequentist approach. \n",
    "\n",
    "Start by computing the margin of error and confidence interval. When calculating the confidence interval, keep in mind that you should use the appropriate formula for one draw, and not N draws. "
   ]
  },
  {
   "cell_type": "code",
   "execution_count": 16,
   "metadata": {},
   "outputs": [
    {
     "name": "stdout",
     "output_type": "stream",
     "text": [
      "95% Confidence interval : (96.78160198059436, 99.644551865559436)\n",
      "margin of error : 1.4676287886364179\n"
     ]
    }
   ],
   "source": [
    "# Bootstrap Approach\n",
    "\n",
    "bs_replicates = draw_bs_reps(df['temperature'], np.mean, size=1000)\n",
    "\n",
    "bs_mean = np.mean(bs_replicates)\n",
    "s = np.std(body_temp)\n",
    "ci_low,ci_high = stats.norm.interval(0.95, loc=bs_mean, scale=s)\n",
    "print('95% Confidence interval :',ci)\n",
    "\n",
    "margin_of_error = float(df.temperature.mean() - ci_low)\n",
    "print('margin of error :',margin_of_error )"
   ]
  },
  {
   "cell_type": "code",
   "execution_count": 17,
   "metadata": {},
   "outputs": [
    {
     "name": "stdout",
     "output_type": "stream",
     "text": [
      "95% Confidence interval : (96.78160198059436, 99.644551865559436)\n",
      "margin of error : 1.431474942482538\n"
     ]
    }
   ],
   "source": [
    "# Frequentist Approach One Sample \n",
    "\n",
    "samp_mean = np.mean(body_temp)\n",
    "s = np.std(body_temp)\n",
    "ci_low,ci_high = stats.norm.interval(0.95, loc=samp_mean, scale=s)\n",
    "print('95% Confidence interval :',ci)\n",
    "\n",
    "margin_of_error = float(df.temperature.mean() - ci_low)\n",
    "print('margin of error :',margin_of_error )"
   ]
  },
  {
   "cell_type": "markdown",
   "metadata": {},
   "source": [
    "## Is there a significant difference between males and females in normal temperature? \n",
    "\n",
    "What testing approach did you use and why? \n",
    "\n",
    "Write a story with your conclusion in the context of the original problem. "
   ]
  },
  {
   "cell_type": "markdown",
   "metadata": {},
   "source": [
    "We will perform a 2-sample t-test to see if male body temperatures are significantly different from female body temperatures.\n",
    "\n",
    "Null Hypothesis: Males and females have the same body temperature. [no difference in mean]\n",
    "\n",
    "Alternative Hypothesis: Males and females have difference body temperatures. [difference in mean]"
   ]
  },
  {
   "cell_type": "code",
   "execution_count": 20,
   "metadata": {},
   "outputs": [
    {
     "data": {
      "text/plain": [
       "Ttest_indResult(statistic=-2.2854345381656103, pvalue=0.023931883122395609)"
      ]
     },
     "execution_count": 20,
     "metadata": {},
     "output_type": "execute_result"
    }
   ],
   "source": [
    "temp_df = df[['temperature', 'gender']]\n",
    "male_temp = temp_df[temp_df.gender=='M']\n",
    "female_temp = temp_df[temp_df.gender=='F']\n",
    "stats.ttest_ind(male_temp['temperature'],female_temp['temperature'])"
   ]
  },
  {
   "cell_type": "markdown",
   "metadata": {},
   "source": [
    "Since p-value is less than 0.05, we can reject our null hypothesis with 95% confidence that males and females have same body temperatures."
   ]
  },
  {
   "cell_type": "code",
   "execution_count": 21,
   "metadata": {},
   "outputs": [
    {
     "data": {
      "image/png": "[encoded data removed]",
      "text/plain": [
       "<matplotlib.figure.Figure at 0x265237d93c8>"
      ]
     },
     "metadata": {},
     "output_type": "display_data"
    }
   ],
   "source": [
    "sns.distplot(male_temp['temperature'], label='male')\n",
    "sns.distplot(female_temp['temperature'], label='female')\n",
    "plt.legend()\n",
    "plt.show()"
   ]
  }
 ],
 "metadata": {
  "kernelspec": {
   "display_name": "Python 3",
   "language": "python",
   "name": "python3"
  },
  "language_info": {
   "codemirror_mode": {
    "name": "ipython",
    "version": 3
   },
   "file_extension": ".py",
   "mimetype": "text/x-python",
   "name": "python",
   "nbconvert_exporter": "python",
   "pygments_lexer": "ipython3",
   "version": "3.6.3"
  }
 },
 "nbformat": 4,
 "nbformat_minor": 1
}
